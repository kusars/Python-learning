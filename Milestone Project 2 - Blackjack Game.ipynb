{
 "cells": [
  {
   "cell_type": "code",
   "execution_count": 1,
   "metadata": {},
   "outputs": [],
   "source": [
    "import random"
   ]
  },
  {
   "cell_type": "code",
   "execution_count": 2,
   "metadata": {},
   "outputs": [],
   "source": [
    "suits = ('Hearts', 'Diamonds', 'Spades', 'Clubs')\n",
    "ranks = ('Two', 'Three', 'Four', 'Five', 'Six', 'Seven', 'Eight', 'Nine', 'Ten', 'Jack', 'Queen', 'King', 'Ace')\n",
    "values = {'Two':2, 'Three':3, 'Four':4, 'Five':5, 'Six':6, 'Seven':7, 'Eight':8, \n",
    "            'Nine':9, 'Ten':10, 'Jack':10, 'Queen':10, 'King':10, 'Ace':11}"
   ]
  },
  {
   "cell_type": "code",
   "execution_count": 3,
   "metadata": {},
   "outputs": [],
   "source": [
    "class Card:\n",
    "    \n",
    "    def __init__(self, suit, rank):\n",
    "        self.suit = suit \n",
    "        self.rank = rank\n",
    "        self.value = values[rank]\n",
    "        \n",
    "    def __str__(self): \n",
    "        return self.rank + \" of \" + self.suit"
   ]
  },
  {
   "cell_type": "code",
   "execution_count": 4,
   "metadata": {},
   "outputs": [],
   "source": [
    "class Deck:\n",
    "    \n",
    "    def __init__(self): \n",
    "        self.all_cards = []\n",
    "        for suit in suits: \n",
    "            for rank in ranks: \n",
    "                self.all_cards.append(Card(suit, rank))\n",
    "    \n",
    "    def shuffle(self):\n",
    "        random.shuffle(self.all_cards)\n",
    "    \n",
    "    def deal(self):\n",
    "        return self.all_cards.pop(0)\n",
    "    \n",
    "    def __str__(self):\n",
    "        return \"Deck contains \" + str(len(self.all_cards)) + \" cards.\""
   ]
  },
  {
   "cell_type": "code",
   "execution_count": 5,
   "metadata": {},
   "outputs": [],
   "source": [
    "class Hand:\n",
    "    def __init__(self):\n",
    "        self.cards = []  # start with an empty list as we did in the Deck class\n",
    "        self.value = 0   # start with zero value\n",
    "        self.aces = 0    # add an attribute to keep track of aces\n",
    "    \n",
    "    def add_card(self,card):\n",
    "        self.cards.append(card)\n",
    "        self.value += card.value\n",
    "        if card.rank == \"Ace\":\n",
    "            self.aces += 1\n",
    "    \n",
    "    def adjust_for_ace(self):\n",
    "        while self.value > 21 and self.aces > 0:\n",
    "            self.value -= 10\n",
    "            self.aces -= 1\n",
    "            \n",
    "    def __len__(self):\n",
    "        return len(self.cards)"
   ]
  },
  {
   "cell_type": "code",
   "execution_count": 6,
   "metadata": {},
   "outputs": [],
   "source": [
    "class Chips:\n",
    "    \n",
    "    def __init__(self):\n",
    "        self.total = 100  # This can be set to a default value or supplied by a user input\n",
    "        self.bet = 0\n",
    "        \n",
    "    def win_bet(self):\n",
    "        self.total += 2 * self.bet\n",
    "        self.bet = 0\n",
    "    \n",
    "    def lose_bet(self):\n",
    "        self.total -= self.bet\n",
    "        self.bet = 0\n",
    "        \n",
    "    def __str__(self):\n",
    "        return \"You have \" + str(self.total) + \" chips.\""
   ]
  },
  {
   "cell_type": "code",
   "execution_count": 7,
   "metadata": {},
   "outputs": [],
   "source": [
    "def take_bet(p_chips):\n",
    "    while True: \n",
    "        try: \n",
    "            bet = int(input(f\"How many chips would you like to bet? (available: {str(p_chips.total)})\"))\n",
    "        except: \n",
    "            print(\"Input was not a number. Please try again.\")\n",
    "        else: \n",
    "            if bet > p_chips.total:\n",
    "                print(\"You do not have enough chips. Please try again\")\n",
    "            else: \n",
    "                p_chips.bet = bet\n",
    "                break"
   ]
  },
  {
   "cell_type": "code",
   "execution_count": 8,
   "metadata": {},
   "outputs": [],
   "source": [
    "def hit(deck,hand):\n",
    "    card = deck.deal()\n",
    "    print(card)\n",
    "    hand.add_card(card)\n",
    "    hand.adjust_for_ace()"
   ]
  },
  {
   "cell_type": "code",
   "execution_count": 9,
   "metadata": {},
   "outputs": [],
   "source": [
    "def hit_or_stand(deck,hand):\n",
    "    global playing\n",
    "    while True: \n",
    "        try: \n",
    "            choice = input(\"Would you like to Hit or Stand?\")\n",
    "        except: \n",
    "            print(\"Error in input. Please try again.\")\n",
    "        else: \n",
    "            if choice not in ['Hit', 'Stand']:\n",
    "                print(\"Please choose to Hit or Stand\")\n",
    "            elif choice == 'Hit':\n",
    "                hit(deck,hand)\n",
    "                break\n",
    "            else: \n",
    "                playing = False\n",
    "                break"
   ]
  },
  {
   "cell_type": "code",
   "execution_count": 24,
   "metadata": {},
   "outputs": [],
   "source": [
    "def show_some(player, dealer):\n",
    "    print(\"Dealer's Hand:\")\n",
    "    print(\"Hidden\")\n",
    "    for i in range(1, len(dealer)):\n",
    "        print(dealer.cards[i])\n",
    "    print()\n",
    "    \n",
    "    print(\"Player's Hand:\") \n",
    "    for card in player.cards:\n",
    "        print(card)\n",
    "    print()\n",
    "    \n",
    "def show_all(player, dealer):\n",
    "    print(\"Dealer's Hand:\") \n",
    "    for card in dealer.cards:\n",
    "        print(card)\n",
    "    print()\n",
    "    \n",
    "    print(\"Player's Hand:\") \n",
    "    for card in player.cards:\n",
    "        print(card)\n",
    "    print()"
   ]
  },
  {
   "cell_type": "code",
   "execution_count": 11,
   "metadata": {},
   "outputs": [],
   "source": [
    "def player_busts(player, p_chips):\n",
    "    player.adjust_for_ace()\n",
    "    if player.value > 21:\n",
    "        print('Player has busted.')\n",
    "        p_chips.lose_bet()\n",
    "        return True\n",
    "    else: \n",
    "        return False"
   ]
  },
  {
   "cell_type": "code",
   "execution_count": 12,
   "metadata": {},
   "outputs": [],
   "source": [
    "def dealer_busts(dealer, p_chips):\n",
    "    dealer.adjust_for_ace()\n",
    "    if dealer.value > 21:\n",
    "        print('Dealer has busted.')\n",
    "        p_chips.win_bet()\n",
    "        return True\n",
    "    else: \n",
    "        return False"
   ]
  },
  {
   "cell_type": "code",
   "execution_count": 13,
   "metadata": {},
   "outputs": [],
   "source": [
    "def player_wins(player, dealer, p_chips):\n",
    "    if player.value > dealer.value:\n",
    "        print('Player has won')\n",
    "        p_chips.win_bet()"
   ]
  },
  {
   "cell_type": "code",
   "execution_count": 14,
   "metadata": {},
   "outputs": [],
   "source": [
    "def dealer_wins(player, dealer, p_chips):\n",
    "    if dealer.value > player.value:\n",
    "        print('Player has lost')\n",
    "        p_chips.lose_bet()"
   ]
  },
  {
   "cell_type": "code",
   "execution_count": 15,
   "metadata": {},
   "outputs": [],
   "source": [
    "def push(player, dealer, p_chips): \n",
    "    if player.value == dealer.value:\n",
    "        print(\"It's a tie.\")\n",
    "        p_chips.bet = 0"
   ]
  },
  {
   "cell_type": "code",
   "execution_count": 25,
   "metadata": {},
   "outputs": [
    {
     "name": "stdout",
     "output_type": "stream",
     "text": [
      "Welcome to Blackjack\n",
      "How many chips would you like to bet? (available: 100)100\n",
      "Dealer's Hand:\n",
      "Hidden\n",
      "Ace of Diamonds\n",
      "\n",
      "Player's Hand:\n",
      "Ten of Hearts\n",
      "Two of Spades\n",
      "\n",
      "Would you like to Hit or Stand?Hit\n",
      "Queen of Spades\n",
      "Dealer's Hand:\n",
      "Hidden\n",
      "Ace of Diamonds\n",
      "\n",
      "Player's Hand:\n",
      "Ten of Hearts\n",
      "Two of Spades\n",
      "Queen of Spades\n",
      "\n",
      "Player has busted.\n",
      "You have 0 chips.\n",
      "You have run out of chips. \n",
      "GAME OVER\n"
     ]
    }
   ],
   "source": [
    "running = True\n",
    "print(\"Welcome to Blackjack\")\n",
    "p_chips = Chips()\n",
    "while running:\n",
    "    bj_deck = Deck()\n",
    "    bj_deck.shuffle()\n",
    "    dealer = Hand()\n",
    "    player = Hand()\n",
    "    playing = True\n",
    "    \n",
    "    player.add_card(bj_deck.deal())\n",
    "    dealer.add_card(bj_deck.deal())\n",
    "    dealer.add_card(bj_deck.deal())\n",
    "    player.add_card(bj_deck.deal())\n",
    "\n",
    "    take_bet(p_chips)\n",
    "    show_some(player, dealer)\n",
    "    \n",
    "    while playing:\n",
    "        hit_or_stand(bj_deck, player)\n",
    "        show_some(player, dealer)\n",
    "        p_bust = player_busts(player, p_chips)\n",
    "        if p_bust:\n",
    "            break\n",
    "    \n",
    "    while not p_bust and dealer.value < 17: \n",
    "        hit(bj_deck, dealer)\n",
    "        d_bust = dealer_busts(dealer, p_chips)\n",
    "        if d_bust: \n",
    "            break \n",
    "    if not p_bust and not d_bust: \n",
    "        show_all(player, dealer)\n",
    "        player_wins(player, dealer, p_chips)\n",
    "        dealer_wins(player, dealer, p_chips)\n",
    "        push(player, dealer, p_chips)\n",
    "    \n",
    "    print(p_chips)\n",
    "    if p_chips.total == 0:\n",
    "        print(\"You have run out of chips. \")\n",
    "        print(\"GAME OVER\")\n",
    "        running = False\n",
    "    else: \n",
    "        try: \n",
    "            choice = input(\"Would you like to play again? (yes/no)\")\n",
    "        except: \n",
    "            print(\"Error in input. Please try again.\")\n",
    "        else: \n",
    "            if choice not in ['yes', 'no']:\n",
    "                print(\"Please answer with either yes or no. \")\n",
    "            elif choice == 'no':\n",
    "                print(\"You have left with \" + str(p_chips.total) + \" chips.\")\n",
    "                print(\"Goodbye\")\n",
    "                running = False \n",
    "                break"
   ]
  },
  {
   "cell_type": "code",
   "execution_count": null,
   "metadata": {},
   "outputs": [],
   "source": []
  }
 ],
 "metadata": {
  "kernelspec": {
   "display_name": "Python 3",
   "language": "python",
   "name": "python3"
  },
  "language_info": {
   "codemirror_mode": {
    "name": "ipython",
    "version": 3
   },
   "file_extension": ".py",
   "mimetype": "text/x-python",
   "name": "python",
   "nbconvert_exporter": "python",
   "pygments_lexer": "ipython3",
   "version": "3.8.3"
  }
 },
 "nbformat": 4,
 "nbformat_minor": 4
}
