{
 "cells": [
  {
   "cell_type": "code",
   "execution_count": 2,
   "metadata": {},
   "outputs": [],
   "source": [
    "# 9/3/2020\n",
    "# Pip install and PyPi\n",
    "# PyPi is repository for open-source third-party Python packages \n",
    "# use pip install at command line to install packages \n",
    "\n",
    "# how to download and install pacakges \n",
    "# windows \n",
    "# pip install (package name)\n",
    "\n",
    "# use simple google search \n",
    "# python package for (tool) "
   ]
  },
  {
   "cell_type": "code",
   "execution_count": 3,
   "metadata": {},
   "outputs": [],
   "source": [
    "# modules and packages \n",
    "# modules are just .py scripts used in another .py script \n",
    "# packages are collection of modules \n",
    "# requires __init__.py to let python know it is collection \n",
    "# need to use IDE that works w/ .py files \n",
    "# main package folder w/ subpackage folder inside \n",
    "# __init__.py needs to be in all package folders \n",
    "# don't actually need to write anything in file \n",
    "# __init__.py defines how to call modules in directory \n",
    "# importing from package: from (package).(subpackage) import (module)\n",
    "# idea is organization "
   ]
  },
  {
   "cell_type": "code",
   "execution_count": 4,
   "metadata": {},
   "outputs": [
    {
     "data": {
      "text/plain": [
       "'__main__'"
      ]
     },
     "execution_count": 4,
     "metadata": {},
     "output_type": "execute_result"
    }
   ],
   "source": [
    "# __name__ and \"__main__\"\n",
    "# if __name__ == \"__main__\"\n",
    "# would like to know if module used as import or on actual file \n",
    "# if true, file being run directly, else, being imported \n",
    "__name__ # built in variable assigned a string based on how script being run \n",
    "# usually write bunch of functions and organize at bottom of code "
   ]
  },
  {
   "cell_type": "code",
   "execution_count": null,
   "metadata": {},
   "outputs": [],
   "source": []
  }
 ],
 "metadata": {
  "kernelspec": {
   "display_name": "Python 3",
   "language": "python",
   "name": "python3"
  },
  "language_info": {
   "codemirror_mode": {
    "name": "ipython",
    "version": 3
   },
   "file_extension": ".py",
   "mimetype": "text/x-python",
   "name": "python",
   "nbconvert_exporter": "python",
   "pygments_lexer": "ipython3",
   "version": "3.8.3"
  }
 },
 "nbformat": 4,
 "nbformat_minor": 4
}
