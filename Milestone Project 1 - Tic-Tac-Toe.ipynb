{
 "cells": [
  {
   "cell_type": "code",
   "execution_count": 32,
   "metadata": {},
   "outputs": [],
   "source": [
    "from IPython.display import clear_output\n",
    "\n",
    "def display_board(board):\n",
    "    clear_output()\n",
    "    print('   |   |   ')\n",
    "    print(f' {board[6]} | {board[7]} | {board[8]} ')\n",
    "    print('   |   |   ')\n",
    "    print('-----------')\n",
    "    print('   |   |   ')\n",
    "    print(f' {board[3]} | {board[4]} | {board[5]} ')\n",
    "    print('   |   |   ')\n",
    "    print('-----------')\n",
    "    print('   |   |   ')\n",
    "    print(f' {board[0]} | {board[1]} | {board[2]} ')\n",
    "    print('   |   |   ')"
   ]
  },
  {
   "cell_type": "code",
   "execution_count": 33,
   "metadata": {},
   "outputs": [],
   "source": [
    "def player_input():\n",
    "    choice = 'wrong'\n",
    "    while choice not in ['X', 'O']:\n",
    "        choice = input(\"Player 1, please choose X or O: \")\n",
    "        if choice not in ['X', 'O']:\n",
    "            print(\"Incorrect response. \\n\")\n",
    "    return choice "
   ]
  },
  {
   "cell_type": "code",
   "execution_count": 34,
   "metadata": {},
   "outputs": [],
   "source": [
    "def place_marker(board, marker, position):\n",
    "    board[position-1] = marker"
   ]
  },
  {
   "cell_type": "code",
   "execution_count": 35,
   "metadata": {},
   "outputs": [],
   "source": [
    "def win_check(board, mark):\n",
    "    mark_pos = []\n",
    "    for ind in range(9):\n",
    "        if board[ind] == mark: \n",
    "            mark_pos.append(ind)\n",
    "            \n",
    "    sol_pos = [[0,1,2],[3,4,5],[6,7,8],[0,3,6],[1,4,7],[2,5,8],[0,4,8],[6,4,2]]\n",
    "    for sol in sol_pos: \n",
    "        if all(item in mark_pos for item in sol): \n",
    "            return True \n",
    "    return False"
   ]
  },
  {
   "cell_type": "code",
   "execution_count": 36,
   "metadata": {},
   "outputs": [],
   "source": [
    "import random\n",
    "\n",
    "def choose_first():\n",
    "    first = random.randint(1,2)\n",
    "    print(f'Player {first}, you move first.')\n",
    "    return first"
   ]
  },
  {
   "cell_type": "code",
   "execution_count": 37,
   "metadata": {},
   "outputs": [],
   "source": [
    "def space_check(board, position):\n",
    "    if board[position-1] in ['X', 'O']:\n",
    "        return True\n",
    "    else: \n",
    "        return False"
   ]
  },
  {
   "cell_type": "code",
   "execution_count": 38,
   "metadata": {},
   "outputs": [],
   "source": [
    "def full_board_check(board):\n",
    "    for mark in board: \n",
    "        if mark not in ['X', 'O']:\n",
    "            return False\n",
    "    return True"
   ]
  },
  {
   "cell_type": "code",
   "execution_count": 39,
   "metadata": {},
   "outputs": [],
   "source": [
    "def player_choice(board):\n",
    "    choice = 'wrong'\n",
    "    while choice not in range(1,10):\n",
    "        choice = input(\"Please choose a position to play in (1-9): \")\n",
    "        if not choice.isdigit(): \n",
    "            print(\"Input is not a number. Please try again. \\n\")\n",
    "        elif not 1<=int(choice)<=9:\n",
    "            print(\"Input not within range. Please try again. \\n\")\n",
    "        elif space_check(board, int(choice)):\n",
    "            print(\"Position already taken. Please try again. \\n\")\n",
    "        else: \n",
    "            return int(choice)"
   ]
  },
  {
   "cell_type": "code",
   "execution_count": 40,
   "metadata": {},
   "outputs": [],
   "source": [
    "def replay():\n",
    "    choice = 'wrong'\n",
    "    while choice not in ['yes', 'no']:\n",
    "        choice = input('Would you like to play again? (yes or no) ')\n",
    "        if choice not in ['yes', 'no']:\n",
    "            print('Incorrect response.\\n')\n",
    "        elif choice == 'yes':\n",
    "            return True\n",
    "        else: \n",
    "            return False"
   ]
  },
  {
   "cell_type": "code",
   "execution_count": 41,
   "metadata": {},
   "outputs": [
    {
     "name": "stdout",
     "output_type": "stream",
     "text": [
      "   |   |   \n",
      " X | O | X \n",
      "   |   |   \n",
      "-----------\n",
      "   |   |   \n",
      " X | O | O \n",
      "   |   |   \n",
      "-----------\n",
      "   |   |   \n",
      " O | X | O \n",
      "   |   |   \n",
      "It's a tie!\n",
      "Would you like to play again? (yes or no) no\n"
     ]
    }
   ],
   "source": [
    "print('Welcome to Tic Tac Toe!')\n",
    "while True:\n",
    "    # Set the game up here\n",
    "    game_on = True\n",
    "    p1 = player_input()\n",
    "    first = choose_first()\n",
    "    second = abs(first - 3)\n",
    "    if first == 2: \n",
    "        if p1 == 'X':\n",
    "            p2 = 'X'\n",
    "            p1 = 'O'\n",
    "        else:\n",
    "            p2 = 'O'\n",
    "            p1 = 'X'\n",
    "    else: \n",
    "        if p1 == 'X':\n",
    "            p2 = 'O'\n",
    "        else: \n",
    "            p2 = 'X'\n",
    "            \n",
    "    board = [' ']*9\n",
    "\n",
    "    start = ''\n",
    "    while start not in ['yes', 'no']:\n",
    "        start = input(\"Ready to play? (yes or no) \")\n",
    "        if start not in ['yes','no']:\n",
    "             print('Incorrect response.\\n')\n",
    "    if start == 'yes':\n",
    "        game_on = True\n",
    "    else:\n",
    "        break\n",
    "            \n",
    "    while game_on:\n",
    "        \n",
    "        # Player 1 Turn\n",
    "        display_board(board)\n",
    "        pos = player_choice(board)\n",
    "        place_marker(board, p1, pos)\n",
    "        if win_check(board, p1): \n",
    "            display_board(board)\n",
    "            print(f'Player {first} wins!')\n",
    "            game_on = False\n",
    "            break\n",
    "            \n",
    "        if full_board_check(board):\n",
    "            display_board(board)\n",
    "            game_on = False\n",
    "            print(\"It's a tie!\")\n",
    "            break\n",
    "\n",
    "        # Player2's turn.\n",
    "        display_board(board)\n",
    "        pos = player_choice(board)\n",
    "        place_marker(board, p2, pos)\n",
    "        if win_check(board, p2): \n",
    "            display_board(board)\n",
    "            print(f'Player {second} wins!')\n",
    "            game_on = False\n",
    "            break \n",
    "            \n",
    "    if not replay():\n",
    "        break"
   ]
  },
  {
   "cell_type": "code",
   "execution_count": null,
   "metadata": {},
   "outputs": [],
   "source": []
  }
 ],
 "metadata": {
  "kernelspec": {
   "display_name": "Python 3",
   "language": "python",
   "name": "python3"
  },
  "language_info": {
   "codemirror_mode": {
    "name": "ipython",
    "version": 3
   },
   "file_extension": ".py",
   "mimetype": "text/x-python",
   "name": "python",
   "nbconvert_exporter": "python",
   "pygments_lexer": "ipython3",
   "version": "3.8.3"
  }
 },
 "nbformat": 4,
 "nbformat_minor": 4
}
